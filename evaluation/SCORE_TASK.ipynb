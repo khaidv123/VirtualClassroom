{
 "cells": [
  {
   "cell_type": "code",
   "execution_count": 2,
   "metadata": {},
   "outputs": [],
   "source": [
    "import json\n",
    "import json\n",
    "from llm import *\n",
    "from tqdm import tqdm\n",
    "import re"
   ]
  },
  {
   "cell_type": "code",
   "execution_count": 50,
   "metadata": {},
   "outputs": [],
   "source": [
    "with open(r\"tasks\\task4_full_score.json\", \"r\", encoding=\"utf-8\") as f:\n",
    "    dataset_task4 = json.load(f)"
   ]
  },
  {
   "cell_type": "code",
   "execution_count": 39,
   "metadata": {},
   "outputs": [],
   "source": [
    "l = []"
   ]
  },
  {
   "cell_type": "code",
   "execution_count": 52,
   "metadata": {},
   "outputs": [],
   "source": [
    "\n",
    "for i in dataset_task4['samples']:\n",
    "    sample = i['GT_HISTORY']\n",
    "\n",
    "    for u in sample:\n",
    "        l.append(u['utterance'])"
   ]
  },
  {
   "cell_type": "code",
   "execution_count": 53,
   "metadata": {},
   "outputs": [
    {
     "data": {
      "text/plain": [
       "230"
      ]
     },
     "execution_count": 53,
     "metadata": {},
     "output_type": "execute_result"
    }
   ],
   "source": [
    "len(l)"
   ]
  },
  {
   "cell_type": "code",
   "execution_count": null,
   "metadata": {},
   "outputs": [],
   "source": []
  },
  {
   "cell_type": "code",
   "execution_count": 54,
   "metadata": {},
   "outputs": [],
   "source": [
    "s = 0\n",
    "\n",
    "for i in l:\n",
    "    words = i.split()\n",
    "    word_count = len(words)\n",
    "    s += word_count\n"
   ]
  },
  {
   "cell_type": "code",
   "execution_count": 55,
   "metadata": {},
   "outputs": [
    {
     "data": {
      "text/plain": [
       "4334"
      ]
     },
     "execution_count": 55,
     "metadata": {},
     "output_type": "execute_result"
    }
   ],
   "source": [
    "s"
   ]
  },
  {
   "cell_type": "code",
   "execution_count": 56,
   "metadata": {},
   "outputs": [
    {
     "data": {
      "text/plain": [
       "18.843478260869563"
      ]
     },
     "execution_count": 56,
     "metadata": {},
     "output_type": "execute_result"
    }
   ],
   "source": [
    "s/len(l)"
   ]
  },
  {
   "cell_type": "code",
   "execution_count": null,
   "metadata": {},
   "outputs": [],
   "source": []
  },
  {
   "cell_type": "code",
   "execution_count": null,
   "metadata": {},
   "outputs": [],
   "source": []
  },
  {
   "cell_type": "markdown",
   "metadata": {},
   "source": [
    "# LLM-as-a-Judge"
   ]
  },
  {
   "cell_type": "code",
   "execution_count": 50,
   "metadata": {},
   "outputs": [],
   "source": [
    "PROMT_CHECK_INNER_THOUGHT_CONTENTS = \"\"\"\n",
    "Bạn được cung cấp một cuộc hội thoại gồm 10 turn giữa các bạn đang thảo luận về môn toán.\n",
    "\n",
    "9 turns đầu tiên được đưa vào hệ thống chatbot AI để đoán ra tên người nói và AI đó sẽ thực hiện trả lời ở turn thứ 10 (đây được gọi là turn được generate bởi AI)\n",
    "Ngoài ra khi generate câu trả lời, thì AI đó sẽ suy nghĩ trước khi nói (suy khi có tin nhắn ở turn 9, thì AI sẽ suy nghĩ để thực hiện turn 10).\n",
    "\n",
    "## Nhiệm vụ:\n",
    "Bạn sẽ đánh giá điểm dựa trên nội dung nói của AI so với nội dung của turn thứ 10 thật, trên thang điểm 1.0 - 10.0\n",
    "Các thức chấm điểm:\n",
    "Về nội dung lời nói của AI:\n",
    "- Nếu như hai turn giống nhau về nội dung hay ý định giống nhau thì sẽ được cộng điểm. Ngược lại nếu nội dung hay ý định khác nhau thì trừ điểm\n",
    "- Nếu như hai turn có điểm tương đồng, nhưng turn gen ra bởi AI thiếu hoặc thừa quá nhiều thì cần trừ điểm.\n",
    "- Nếu như hai turn là tương đồng, nhưng cách nói chuyện của AI không giống người, ví dụ quá dài so với thực tế thì trừ điểm.\n",
    "- Nếu như các nói chuyện của AI đó không đồng nhất như phong cách trước đó của họ thì cũng trừ điểm.\n",
    "- Sẽ là một điểm cộng nếu AI diễn đạt theo cách khác so với thực tế nhưng vẫn cùng một ý định.\n",
    "\n",
    "Về suy nghĩ của AI:\n",
    "- Chấm điểm thêm điểm CỘNG nếu suy nghĩ của AI hướng tới hành động giống như sẽ thực hiện ở turn 10 thật. Phù hợp với hội thoại sự phát triển suy nghĩ của riêng họ trong hội thoại.\n",
    "- Chấm điểm thêm điểm TRỪ nếu suy nghĩ của AI không hướng tới hành động đúng, cho dù ở turn 10 gen AI đã thực hiện đúng hành động so với turn 10 thật.\n",
    "\n",
    "## Lưu ý:\n",
    "- Điểm số là số thập phân (ví dụ: 1.2, 3.7, 8.9, 9.9,...)\n",
    "- Hãy cẩn thận để khi nào CỘNG hoặc TRỪ điểm.\n",
    "\n",
    "## Ouput: Chỉ trả về 2 dòng như sau, và không viết gì thêm:\n",
    "<Giải thích cách chấm điểm> (dòng 1 dùng dể giải thích, đây là một chuỗi string)\n",
    "<score><1.0-10.0></score> (dòng 2 là một số float để chấm điểm dựa trên giải thích trên được để trong tag <score></score>)\n",
    "\n",
    "\n",
    "Ví dụ 1:\n",
    "Turn gen ra bởi AI còn thiếu....\n",
    "<score>5.7</score>\n",
    "\n",
    "\n",
    "Ví dụ 2:\n",
    "So với turn 10 thật...\n",
    "<score>2.5</score>\n",
    "\n",
    "Ví dụ 3:\n",
    "Có thể thấy ...\n",
    "<score>9.3</score>\n",
    "\n",
    "\n",
    "## Đây là hội thoại (turn 1-9):\n",
    "---\n",
    "{history}\n",
    "---\n",
    "\n",
    "## Đây là turn 10 thật:\n",
    "---\n",
    "{gt}\n",
    "---\n",
    "\n",
    "## Đây là turn 10 gen bởi AI:\n",
    "---\n",
    "{gen}\n",
    "---\n",
    "\n",
    "LƯU Ý QUAN TRỌNG: phải trả về 2 dòng như mô tả đầu ra ở trên, dòng 2 là điểm số dạng float\n",
    "- Dòng 1 chỉ chứa giải thích (chỉ được giải thích trên một dòng)\n",
    "- Dòng 2 chỉ chứa duy nhât 1 số float mà không được chưa thêm bất kỳ ký tự nào, để trong tag <score></score>\n",
    "\"\"\""
   ]
  },
  {
   "cell_type": "code",
   "execution_count": 49,
   "metadata": {},
   "outputs": [],
   "source": [
    "# Withou Thoughts\n",
    "PROMT_CHECK_INNER_THOUGHT_CONTENTS_system1 = \"\"\"\n",
    "Bạn được cung cấp một cuộc hội thoại gồm 10 turn giữa các bạn đang thảo luận về môn toán.\n",
    "\n",
    "9 turns đầu tiên được đưa vào hệ thống chatbot AI để đoán ra tên người nói và AI đó sẽ thực hiện trả lời ở turn thứ 10 (đây được gọi là turn được generate bởi AI)\n",
    "\n",
    "## Nhiệm vụ:\n",
    "Bạn sẽ đánh giá điểm dựa trên nội dung nói của AI so với nội dung của turn thứ 10 thật, trên thang điểm 1.0 - 10.0\n",
    "Các thức chấm điểm:\n",
    "(1) Chấm điểm dựa trên nội dung:\n",
    "- Nếu như hai turn giống nhau về nội dung hay ý định giống nhau thì sẽ được cộng điểm. Ngược lại nếu nội dung hay ý định khác nhau thì trừ điểm\n",
    "- Nếu như hai turn có điểm tương đồng, nhưng turn gen ra bởi AI thiếu hoặc thừa quá nhiều thì cần trừ điểm.\n",
    "- Nếu như hai turn là tương đồng, nhưng cách nói chuyện của AI không giống người, ví dụ quá dài so với thực tế thì trừ điểm.\n",
    "- Nếu như các nói chuyện của AI đó không đồng nhất như phong cách trước đó của họ thì cũng trừ điểm.\n",
    "- Sẽ là một điểm cộng nếu AI diễn đạt theo cách khác so với thực tế nhưng vẫn cùng một ý định.\n",
    "\n",
    "(2) Chấm điểm dựa trên AI đó nói có thích hợp:\n",
    "- Nếu so với tên của người ở tên 10 thật, nếu tên của AI nói mà khác thì sẽ là điểm trừ lớn.\n",
    "- Nếu khác tên người nói, nhưng nội dung vẫn tương tự thì vấn được tính điểm ở mức trung bình.\n",
    "\n",
    "## Lưu ý:\n",
    "- Điểm số là số thập phân (ví dụ: 1.2, 3.7, 8.9, 9.9,...)\n",
    "- Hãy cẩn thận để khi nào CỘNG hoặc TRỪ điểm.\n",
    "\n",
    "## Ouput: Chỉ trả về 2 dòng như sau, và không viết gì thêm:\n",
    "<Giải thích cách chấm điểm> (dòng 1 dùng dể giải thích, đây là một chuỗi string)\n",
    "<score><1.0-10.0></score> (dòng 2 là một số float để chấm điểm dựa trên giải thích trên được để trong tag <score></score>)\n",
    "\n",
    "\n",
    "Ví dụ 1:\n",
    "Turn gen ra bởi AI còn thiếu....\n",
    "<score>5.7</score>\n",
    "\n",
    "\n",
    "Ví dụ 2:\n",
    "So với turn 10 thật...\n",
    "<score>2.5</score>\n",
    "\n",
    "Ví dụ 3:\n",
    "Có thể thấy ...\n",
    "<score>9.3</score>\n",
    "\n",
    "\n",
    "## Đây là hội thoại (turn 1-9):\n",
    "---\n",
    "{history}\n",
    "---\n",
    "\n",
    "## Đây là turn 10 thật:\n",
    "---\n",
    "{gt}\n",
    "---\n",
    "\n",
    "## Đây là turn 10 gen bởi AI:\n",
    "---\n",
    "{gen}\n",
    "---\n",
    "\n",
    "LƯU Ý QUAN TRỌNG: phải trả về 2 dòng như mô tả đầu ra ở trên, dòng 2 là điểm số dạng float\n",
    "- Dòng 1 chỉ chứa giải thích (chỉ được giải thích trên một dòng)\n",
    "- Dòng 2 chỉ chứa duy nhât 1 số float mà không được chưa thêm bất kỳ ký tự nào, để trong tag <score></score>\n",
    "\"\"\""
   ]
  },
  {
   "cell_type": "code",
   "execution_count": null,
   "metadata": {},
   "outputs": [],
   "source": []
  },
  {
   "cell_type": "code",
   "execution_count": null,
   "metadata": {},
   "outputs": [],
   "source": []
  },
  {
   "cell_type": "markdown",
   "metadata": {},
   "source": [
    "## Helper Function"
   ]
  },
  {
   "cell_type": "code",
   "execution_count": 10,
   "metadata": {},
   "outputs": [],
   "source": [
    "def parse_json(resp):\n",
    "    return json.loads(resp.strip('```json').strip('\\n```'))"
   ]
  },
  {
   "cell_type": "code",
   "execution_count": 11,
   "metadata": {},
   "outputs": [],
   "source": [
    "def format_gen(sample):\n",
    "    formatted = \"\"\n",
    "\n",
    "    next_ = sample[9]['name']\n",
    "    utt_ = sample[9]['utterance']\n",
    "    thoughts = sample[8]['thoughts']\n",
    "    THO = next(item for item in thoughts if item['agent_name'] == next_)\n",
    "\n",
    "    formatted += f\"Tên: {next_}\\nSuy nghĩ của AI: {THO['inner_thought']}\\nLời nói gen ra ở turn 10: \\\"{utt_}\\\"\"\n",
    "    return formatted"
   ]
  },
  {
   "cell_type": "code",
   "execution_count": 12,
   "metadata": {},
   "outputs": [],
   "source": [
    "def format_gen_system1(sample):\n",
    "    formatted = \"\"\n",
    "\n",
    "    next_ = sample[9]['name']\n",
    "    utt_ = sample[9]['utterance']\n",
    "\n",
    "\n",
    "    formatted += f\"Tên: {next_}\\nLời nói gen ra ở turn 10: \\\"{utt_}\\\"\"\n",
    "    return formatted"
   ]
  },
  {
   "cell_type": "code",
   "execution_count": 13,
   "metadata": {},
   "outputs": [],
   "source": [
    "def formate_GT(sample):\n",
    "    formatted = \"\"\n",
    "    for u in sample[:-1]:\n",
    "        formatted += f\"{u['turn']}. {u['name']} : \\\"{u['message']}\\\"\\n\"\n",
    "\n",
    "    return (sample[-1]['name'], sample[-1]['message']), formatted"
   ]
  },
  {
   "cell_type": "code",
   "execution_count": 51,
   "metadata": {},
   "outputs": [
    {
     "name": "stdout",
     "output_type": "stream",
     "text": [
      "9.3\n"
     ]
    }
   ],
   "source": [
    "def extract_score(text):\n",
    "    match = re.search(r\"<score>([\\d.]+)</score>\", text)\n",
    "    if match:\n",
    "        return float(match.group(1))\n",
    "    return None\n",
    "\n",
    "input_text = \"Có thể thấy ...\\n<score>9.3</score>\"\n",
    "score = extract_score(input_text)\n",
    "print(score)"
   ]
  },
  {
   "cell_type": "code",
   "execution_count": 33,
   "metadata": {},
   "outputs": [],
   "source": [
    "# LLM\n",
    "\n",
    "gemini = LLM(provider=\"Google\", model=\"gemini-pro\", temperature = 0)\n",
    "def llm_gemini(prompt):\n",
    "    return gemini.generate(prompt)\n",
    "\n",
    "\n",
    "gpt4o = LLM(provider=\"OpenAI\", model=\"gpt-4o\", temperature = 0)\n",
    "def llm_gpt4o(prompt):\n",
    "    return gpt4o.generate(prompt)\n",
    "\n",
    "\n",
    "o4mini = LLM(provider=\"OpenAI\", model=\"o4mini\", temperature = 0.3)\n",
    "def llm_o4mini(prompt):\n",
    "    return o4mini.generate(prompt)\n",
    "\n",
    "\n"
   ]
  },
  {
   "cell_type": "code",
   "execution_count": null,
   "metadata": {},
   "outputs": [],
   "source": []
  },
  {
   "cell_type": "code",
   "execution_count": 67,
   "metadata": {},
   "outputs": [],
   "source": [
    "def score(prompt):\n",
    "    # gpt_4o\n",
    "    s = {\"gpt4o\" : None,\n",
    "         \"o4mini\" : None,\n",
    "         \"geminipro\" : None,\n",
    "         \"avg\" : None}\n",
    "\n",
    "    gpt_4o = llm_gpt4o(prompt)\n",
    "    gpt_4o_s = extract_score(gpt_4o)\n",
    "    s['gpt4o'] = gpt_4o_s\n",
    "\n",
    "    o4mini = llm_o4mini(prompt)\n",
    "    o4mini_s = extract_score(o4mini)\n",
    "    s['o4mini'] = o4mini_s\n",
    "\n",
    "    geminipro = llm_gemini(prompt)\n",
    "    geminipro_s = extract_score(geminipro)\n",
    "    s['geminipro'] = geminipro_s\n",
    "\n",
    "    avg = (s['gpt4o'] + s['o4mini'] + s['geminipro']) / 3\n",
    "\n",
    "    s['avg'] = avg\n",
    "\n",
    "    return s"
   ]
  },
  {
   "cell_type": "code",
   "execution_count": null,
   "metadata": {},
   "outputs": [],
   "source": [
    "def score_radar(task):\n",
    "    gemini = 0.0\n",
    "    gpt = 0.0\n",
    "    gemma = 0.0\n",
    "    system1 = 0.0\n",
    "    for i in task:\n",
    "        gemini += i[1]['gemini']['avg']\n",
    "        gpt += i[1]['gpt4omini']['avg']\n",
    "        gemma += i[1]['gemma']['avg']\n",
    "        system1 += i[1]['system1']['avg']\n",
    "\n",
    "    return {\"gemini2flash\" : gemini/len(task),\n",
    "            \"gpt4omini\" : gpt/len(task),\n",
    "            \"gemma\" : gemma/len(task),\n",
    "            \"system1\" : system1/len(task)}"
   ]
  },
  {
   "cell_type": "code",
   "execution_count": null,
   "metadata": {},
   "outputs": [],
   "source": []
  },
  {
   "cell_type": "markdown",
   "metadata": {},
   "source": [
    "# SCORING..."
   ]
  },
  {
   "cell_type": "code",
   "execution_count": 84,
   "metadata": {},
   "outputs": [
    {
     "name": "stderr",
     "output_type": "stream",
     "text": [
      "  0%|          | 0/20 [00:00<?, ?it/s]"
     ]
    },
    {
     "name": "stdout",
     "output_type": "stream",
     "text": [
      "1\n",
      "--- GEMINI ---\n",
      "{'num': 1, 'model': 'gemini', 'score': {'gpt4o': 2.0, 'o4mini': 2.0, 'geminipro': 2.0, 'avg': 2.0}}\n",
      "--- 4o MINI ---\n",
      "{'num': 1, 'model': 'gpt_4o_mini', 'score': {'gpt4o': 1.5, 'o4mini': 1.2, 'geminipro': 1.2, 'avg': 1.3}}\n",
      "--- GEMMA ---\n"
     ]
    },
    {
     "name": "stderr",
     "output_type": "stream",
     "text": [
      "  5%|▌         | 1/20 [00:14<04:30, 14.24s/it]"
     ]
    },
    {
     "name": "stdout",
     "output_type": "stream",
     "text": [
      "{'num': 1, 'model': 'gemma', 'score': {'gpt4o': 6.5, 'o4mini': 2.0, 'geminipro': 2.5, 'avg': 3.6666666666666665}}\n",
      "2\n",
      "--- GEMINI ---\n",
      "{'num': 2, 'model': 'gemini', 'score': {'gpt4o': 3.5, 'o4mini': 2.0, 'geminipro': 2.0, 'avg': 2.5}}\n",
      "--- 4o MINI ---\n",
      "{'num': 2, 'model': 'gpt_4o_mini', 'score': {'gpt4o': 3.0, 'o4mini': 2.0, 'geminipro': 2.0, 'avg': 2.3333333333333335}}\n",
      "--- GEMMA ---\n"
     ]
    },
    {
     "name": "stderr",
     "output_type": "stream",
     "text": [
      " 10%|█         | 2/20 [00:28<04:16, 14.25s/it]"
     ]
    },
    {
     "name": "stdout",
     "output_type": "stream",
     "text": [
      "{'num': 2, 'model': 'gemma', 'score': {'gpt4o': 3.5, 'o4mini': 2.5, 'geminipro': 2.5, 'avg': 2.8333333333333335}}\n",
      "3\n",
      "--- GEMINI ---\n",
      "{'num': 3, 'model': 'gemini', 'score': {'gpt4o': 7.5, 'o4mini': 8.2, 'geminipro': 7.8, 'avg': 7.833333333333333}}\n",
      "--- 4o MINI ---\n",
      "{'num': 3, 'model': 'gpt_4o_mini', 'score': {'gpt4o': 3.0, 'o4mini': 2.0, 'geminipro': 2.5, 'avg': 2.5}}\n",
      "--- GEMMA ---\n"
     ]
    },
    {
     "name": "stderr",
     "output_type": "stream",
     "text": [
      " 15%|█▌        | 3/20 [00:44<04:14, 15.00s/it]"
     ]
    },
    {
     "name": "stdout",
     "output_type": "stream",
     "text": [
      "{'num': 3, 'model': 'gemma', 'score': {'gpt4o': 7.0, 'o4mini': 7.8, 'geminipro': 7.5, 'avg': 7.433333333333334}}\n",
      "4\n",
      "--- GEMINI ---\n",
      "{'num': 4, 'model': 'gemini', 'score': {'gpt4o': 8.5, 'o4mini': 8.5, 'geminipro': 8.2, 'avg': 8.4}}\n",
      "--- 4o MINI ---\n",
      "{'num': 4, 'model': 'gpt_4o_mini', 'score': {'gpt4o': 3.0, 'o4mini': 6.5, 'geminipro': 6.5, 'avg': 5.333333333333333}}\n",
      "--- GEMMA ---\n"
     ]
    },
    {
     "name": "stderr",
     "output_type": "stream",
     "text": [
      " 20%|██        | 4/20 [01:01<04:12, 15.78s/it]"
     ]
    },
    {
     "name": "stdout",
     "output_type": "stream",
     "text": [
      "{'num': 4, 'model': 'gemma', 'score': {'gpt4o': 6.8, 'o4mini': 7.8, 'geminipro': 8.2, 'avg': 7.599999999999999}}\n",
      "5\n",
      "--- GEMINI ---\n",
      "{'num': 5, 'model': 'gemini', 'score': {'gpt4o': 7.5, 'o4mini': 8.2, 'geminipro': 8.2, 'avg': 7.966666666666666}}\n",
      "--- 4o MINI ---\n",
      "{'num': 5, 'model': 'gpt_4o_mini', 'score': {'gpt4o': 8.5, 'o4mini': 9.2, 'geminipro': 9.2, 'avg': 8.966666666666667}}\n",
      "--- GEMMA ---\n"
     ]
    },
    {
     "name": "stderr",
     "output_type": "stream",
     "text": [
      " 25%|██▌       | 5/20 [01:15<03:49, 15.31s/it]"
     ]
    },
    {
     "name": "stdout",
     "output_type": "stream",
     "text": [
      "{'num': 5, 'model': 'gemma', 'score': {'gpt4o': 7.5, 'o4mini': 7.8, 'geminipro': 7.8, 'avg': 7.7}}\n",
      "6\n",
      "--- GEMINI ---\n",
      "{'num': 6, 'model': 'gemini', 'score': {'gpt4o': 8.5, 'o4mini': 9.5, 'geminipro': 8.5, 'avg': 8.833333333333334}}\n",
      "--- 4o MINI ---\n",
      "{'num': 6, 'model': 'gpt_4o_mini', 'score': {'gpt4o': 3.0, 'o4mini': 6.5, 'geminipro': 6.5, 'avg': 5.333333333333333}}\n",
      "--- GEMMA ---\n"
     ]
    },
    {
     "name": "stderr",
     "output_type": "stream",
     "text": [
      " 30%|███       | 6/20 [01:33<03:46, 16.20s/it]"
     ]
    },
    {
     "name": "stdout",
     "output_type": "stream",
     "text": [
      "{'num': 6, 'model': 'gemma', 'score': {'gpt4o': 8.5, 'o4mini': 8.5, 'geminipro': 8.5, 'avg': 8.5}}\n",
      "7\n",
      "--- GEMINI ---\n",
      "{'num': 7, 'model': 'gemini', 'score': {'gpt4o': 3.0, 'o4mini': 2.0, 'geminipro': 2.0, 'avg': 2.3333333333333335}}\n",
      "--- 4o MINI ---\n",
      "{'num': 7, 'model': 'gpt_4o_mini', 'score': {'gpt4o': 6.5, 'o4mini': 2.0, 'geminipro': 2.0, 'avg': 3.5}}\n",
      "--- GEMMA ---\n"
     ]
    },
    {
     "name": "stderr",
     "output_type": "stream",
     "text": [
      " 35%|███▌      | 7/20 [01:51<03:38, 16.78s/it]"
     ]
    },
    {
     "name": "stdout",
     "output_type": "stream",
     "text": [
      "{'num': 7, 'model': 'gemma', 'score': {'gpt4o': 8.5, 'o4mini': 8.5, 'geminipro': 8.5, 'avg': 8.5}}\n",
      "8\n",
      "--- GEMINI ---\n",
      "{'num': 8, 'model': 'gemini', 'score': {'gpt4o': 7.5, 'o4mini': 7.8, 'geminipro': 7.8, 'avg': 7.7}}\n",
      "--- 4o MINI ---\n",
      "{'num': 8, 'model': 'gpt_4o_mini', 'score': {'gpt4o': 7.8, 'o4mini': 8.2, 'geminipro': 8.5, 'avg': 8.166666666666666}}\n",
      "--- GEMMA ---\n"
     ]
    },
    {
     "name": "stderr",
     "output_type": "stream",
     "text": [
      " 40%|████      | 8/20 [02:06<03:14, 16.20s/it]"
     ]
    },
    {
     "name": "stdout",
     "output_type": "stream",
     "text": [
      "{'num': 8, 'model': 'gemma', 'score': {'gpt4o': 7.5, 'o4mini': 6.8, 'geminipro': 7.8, 'avg': 7.366666666666667}}\n",
      "9\n",
      "--- GEMINI ---\n",
      "{'num': 9, 'model': 'gemini', 'score': {'gpt4o': 3.0, 'o4mini': 6.5, 'geminipro': 4.5, 'avg': 4.666666666666667}}\n",
      "--- 4o MINI ---\n",
      "{'num': 9, 'model': 'gpt_4o_mini', 'score': {'gpt4o': 4.5, 'o4mini': 2.0, 'geminipro': 2.5, 'avg': 3.0}}\n",
      "--- GEMMA ---\n"
     ]
    },
    {
     "name": "stderr",
     "output_type": "stream",
     "text": [
      " 45%|████▌     | 9/20 [02:29<03:20, 18.27s/it]"
     ]
    },
    {
     "name": "stdout",
     "output_type": "stream",
     "text": [
      "{'num': 9, 'model': 'gemma', 'score': {'gpt4o': 3.5, 'o4mini': 2.5, 'geminipro': 3.5, 'avg': 3.1666666666666665}}\n",
      "10\n",
      "--- GEMINI ---\n",
      "{'num': 10, 'model': 'gemini', 'score': {'gpt4o': 9.0, 'o4mini': 9.2, 'geminipro': 9.2, 'avg': 9.133333333333333}}\n",
      "--- 4o MINI ---\n",
      "{'num': 10, 'model': 'gpt_4o_mini', 'score': {'gpt4o': 3.5, 'o4mini': 1.2, 'geminipro': 2.0, 'avg': 2.2333333333333334}}\n",
      "--- GEMMA ---\n"
     ]
    },
    {
     "name": "stderr",
     "output_type": "stream",
     "text": [
      " 50%|█████     | 10/20 [02:44<02:53, 17.31s/it]"
     ]
    },
    {
     "name": "stdout",
     "output_type": "stream",
     "text": [
      "{'num': 10, 'model': 'gemma', 'score': {'gpt4o': 8.0, 'o4mini': 7.8, 'geminipro': 7.8, 'avg': 7.866666666666667}}\n",
      "11\n",
      "--- GEMINI ---\n",
      "{'num': 11, 'model': 'gemini', 'score': {'gpt4o': 3.5, 'o4mini': 7.5, 'geminipro': 7.5, 'avg': 6.166666666666667}}\n",
      "--- 4o MINI ---\n",
      "{'num': 11, 'model': 'gpt_4o_mini', 'score': {'gpt4o': 6.0, 'o4mini': 3.5, 'geminipro': 2.5, 'avg': 4.0}}\n",
      "--- GEMMA ---\n"
     ]
    },
    {
     "name": "stderr",
     "output_type": "stream",
     "text": [
      " 55%|█████▌    | 11/20 [03:01<02:34, 17.15s/it]"
     ]
    },
    {
     "name": "stdout",
     "output_type": "stream",
     "text": [
      "{'num': 11, 'model': 'gemma', 'score': {'gpt4o': 6.0, 'o4mini': 7.8, 'geminipro': 7.5, 'avg': 7.1000000000000005}}\n",
      "12\n",
      "--- GEMINI ---\n",
      "{'num': 12, 'model': 'gemini', 'score': {'gpt4o': 6.5, 'o4mini': 8.2, 'geminipro': 7.8, 'avg': 7.5}}\n",
      "--- 4o MINI ---\n",
      "{'num': 12, 'model': 'gpt_4o_mini', 'score': {'gpt4o': 7.5, 'o4mini': 7.5, 'geminipro': 7.5, 'avg': 7.5}}\n",
      "--- GEMMA ---\n"
     ]
    },
    {
     "name": "stderr",
     "output_type": "stream",
     "text": [
      " 60%|██████    | 12/20 [03:17<02:15, 16.89s/it]"
     ]
    },
    {
     "name": "stdout",
     "output_type": "stream",
     "text": [
      "{'num': 12, 'model': 'gemma', 'score': {'gpt4o': 3.0, 'o4mini': 1.2, 'geminipro': 1.2, 'avg': 1.8}}\n",
      "13\n",
      "--- GEMINI ---\n",
      "{'num': 13, 'model': 'gemini', 'score': {'gpt4o': 3.5, 'o4mini': 3.5, 'geminipro': 2.0, 'avg': 3.0}}\n",
      "--- 4o MINI ---\n",
      "{'num': 13, 'model': 'gpt_4o_mini', 'score': {'gpt4o': 3.5, 'o4mini': 1.2, 'geminipro': 1.0, 'avg': 1.9000000000000001}}\n",
      "--- GEMMA ---\n"
     ]
    },
    {
     "name": "stderr",
     "output_type": "stream",
     "text": [
      " 65%|██████▌   | 13/20 [03:33<01:54, 16.42s/it]"
     ]
    },
    {
     "name": "stdout",
     "output_type": "stream",
     "text": [
      "{'num': 13, 'model': 'gemma', 'score': {'gpt4o': 3.5, 'o4mini': 4.5, 'geminipro': 2.5, 'avg': 3.5}}\n",
      "14\n",
      "--- GEMINI ---\n",
      "{'num': 14, 'model': 'gemini', 'score': {'gpt4o': 6.8, 'o4mini': 6.5, 'geminipro': 6.5, 'avg': 6.6000000000000005}}\n",
      "--- 4o MINI ---\n",
      "{'num': 14, 'model': 'gpt_4o_mini', 'score': {'gpt4o': 6.8, 'o4mini': 7.5, 'geminipro': 7.5, 'avg': 7.266666666666667}}\n",
      "--- GEMMA ---\n"
     ]
    },
    {
     "name": "stderr",
     "output_type": "stream",
     "text": [
      " 70%|███████   | 14/20 [03:52<01:44, 17.41s/it]"
     ]
    },
    {
     "name": "stdout",
     "output_type": "stream",
     "text": [
      "{'num': 14, 'model': 'gemma', 'score': {'gpt4o': 3.5, 'o4mini': 6.5, 'geminipro': 3.5, 'avg': 4.5}}\n",
      "15\n",
      "--- GEMINI ---\n",
      "{'num': 15, 'model': 'gemini', 'score': {'gpt4o': 3.5, 'o4mini': 2.5, 'geminipro': 2.0, 'avg': 2.6666666666666665}}\n",
      "--- 4o MINI ---\n",
      "{'num': 15, 'model': 'gpt_4o_mini', 'score': {'gpt4o': 6.5, 'o4mini': 3.5, 'geminipro': 6.5, 'avg': 5.5}}\n",
      "--- GEMMA ---\n"
     ]
    },
    {
     "name": "stderr",
     "output_type": "stream",
     "text": [
      " 75%|███████▌  | 15/20 [04:08<01:24, 16.93s/it]"
     ]
    },
    {
     "name": "stdout",
     "output_type": "stream",
     "text": [
      "{'num': 15, 'model': 'gemma', 'score': {'gpt4o': 3.0, 'o4mini': 2.5, 'geminipro': 2.5, 'avg': 2.6666666666666665}}\n",
      "16\n",
      "--- GEMINI ---\n",
      "{'num': 16, 'model': 'gemini', 'score': {'gpt4o': 4.5, 'o4mini': 2.0, 'geminipro': 2.5, 'avg': 3.0}}\n",
      "--- 4o MINI ---\n",
      "{'num': 16, 'model': 'gpt_4o_mini', 'score': {'gpt4o': 3.0, 'o4mini': 2.5, 'geminipro': 1.2, 'avg': 2.2333333333333334}}\n",
      "--- GEMMA ---\n"
     ]
    },
    {
     "name": "stderr",
     "output_type": "stream",
     "text": [
      " 80%|████████  | 16/20 [04:22<01:03, 15.98s/it]"
     ]
    },
    {
     "name": "stdout",
     "output_type": "stream",
     "text": [
      "{'num': 16, 'model': 'gemma', 'score': {'gpt4o': 2.0, 'o4mini': 1.2, 'geminipro': 1.2, 'avg': 1.4666666666666668}}\n",
      "17\n",
      "--- GEMINI ---\n",
      "{'num': 17, 'model': 'gemini', 'score': {'gpt4o': 3.2, 'o4mini': 2.5, 'geminipro': 2.0, 'avg': 2.566666666666667}}\n",
      "--- 4o MINI ---\n",
      "{'num': 17, 'model': 'gpt_4o_mini', 'score': {'gpt4o': 3.0, 'o4mini': 2.5, 'geminipro': 2.5, 'avg': 2.6666666666666665}}\n",
      "--- GEMMA ---\n"
     ]
    },
    {
     "name": "stderr",
     "output_type": "stream",
     "text": [
      " 85%|████████▌ | 17/20 [04:50<00:58, 19.58s/it]"
     ]
    },
    {
     "name": "stdout",
     "output_type": "stream",
     "text": [
      "{'num': 17, 'model': 'gemma', 'score': {'gpt4o': 3.5, 'o4mini': 2.0, 'geminipro': 2.5, 'avg': 2.6666666666666665}}\n",
      "18\n",
      "--- GEMINI ---\n",
      "{'num': 18, 'model': 'gemini', 'score': {'gpt4o': 2.0, 'o4mini': 1.2, 'geminipro': 1.2, 'avg': 1.4666666666666668}}\n",
      "--- 4o MINI ---\n",
      "{'num': 18, 'model': 'gpt_4o_mini', 'score': {'gpt4o': 3.5, 'o4mini': 2.0, 'geminipro': 2.0, 'avg': 2.5}}\n",
      "--- GEMMA ---\n"
     ]
    },
    {
     "name": "stderr",
     "output_type": "stream",
     "text": [
      " 90%|█████████ | 18/20 [05:05<00:36, 18.22s/it]"
     ]
    },
    {
     "name": "stdout",
     "output_type": "stream",
     "text": [
      "{'num': 18, 'model': 'gemma', 'score': {'gpt4o': 3.0, 'o4mini': 2.5, 'geminipro': 2.5, 'avg': 2.6666666666666665}}\n",
      "19\n",
      "--- GEMINI ---\n",
      "{'num': 19, 'model': 'gemini', 'score': {'gpt4o': 6.8, 'o4mini': 8.2, 'geminipro': 9.2, 'avg': 8.066666666666666}}\n",
      "--- 4o MINI ---\n",
      "{'num': 19, 'model': 'gpt_4o_mini', 'score': {'gpt4o': 3.0, 'o4mini': 2.0, 'geminipro': 1.5, 'avg': 2.1666666666666665}}\n",
      "--- GEMMA ---\n"
     ]
    },
    {
     "name": "stderr",
     "output_type": "stream",
     "text": [
      " 95%|█████████▌| 19/20 [05:27<00:19, 19.45s/it]"
     ]
    },
    {
     "name": "stdout",
     "output_type": "stream",
     "text": [
      "{'num': 19, 'model': 'gemma', 'score': {'gpt4o': 2.0, 'o4mini': 1.2, 'geminipro': 1.2, 'avg': 1.4666666666666668}}\n",
      "20\n",
      "--- GEMINI ---\n",
      "{'num': 20, 'model': 'gemini', 'score': {'gpt4o': 2.0, 'o4mini': 1.2, 'geminipro': 1.2, 'avg': 1.4666666666666668}}\n",
      "--- 4o MINI ---\n",
      "{'num': 20, 'model': 'gpt_4o_mini', 'score': {'gpt4o': 3.0, 'o4mini': 1.0, 'geminipro': 1.2, 'avg': 1.7333333333333334}}\n",
      "--- GEMMA ---\n"
     ]
    },
    {
     "name": "stderr",
     "output_type": "stream",
     "text": [
      "100%|██████████| 20/20 [05:43<00:00, 17.19s/it]"
     ]
    },
    {
     "name": "stdout",
     "output_type": "stream",
     "text": [
      "{'num': 20, 'model': 'gemma', 'score': {'gpt4o': 3.0, 'o4mini': 2.0, 'geminipro': 1.2, 'avg': 2.066666666666667}}\n"
     ]
    },
    {
     "name": "stderr",
     "output_type": "stream",
     "text": [
      "\n"
     ]
    }
   ],
   "source": [
    "idx = 0\n",
    "for sample in tqdm(dataset_task4['data']):\n",
    "    idx += 1\n",
    "    try:\n",
    "        print(idx)\n",
    "        print(sample['score'])\n",
    "        continue\n",
    "\n",
    "    except:\n",
    "        gt, history = formate_GT(sample['history'])\n",
    "\n",
    "        ## Gemini\n",
    "        gemini_g = format_gen(sample['inner_thought']['history'])\n",
    "        prompt_1 = PROMT_CHECK_INNER_THOUGHT_CONTENTS.format(history = history,\n",
    "                                                            gt = gt,\n",
    "                                                            gen = gemini_g)\n",
    "        \n",
    "        print(\"--- GEMINI ---\")\n",
    "        # print(prompt_1)\n",
    "        # print()\n",
    "        gemini_score = score(prompt= prompt_1)\n",
    "\n",
    "\n",
    "        sample['score'] = {\"gemini\" : None,\n",
    "                        \"gpt4omini\" : None,\n",
    "                        \"gemma\" : None}\n",
    "        \n",
    "        sample['score']['gemini'] = gemini_score\n",
    "        print({\"num\" : idx, \"model\" : \"gemini\", \"score\" : gemini_score})\n",
    "\n",
    "        \n",
    "        ## Gpt-4o-mini\n",
    "        gpt4omini_g = format_gen(sample['inner_thought']['history_4omini'])\n",
    "        prompt_2 = PROMT_CHECK_INNER_THOUGHT_CONTENTS.format(history = history,\n",
    "                                                            gt = gt,\n",
    "                                                            gen = gpt4omini_g)\n",
    "        \n",
    "        print(\"--- 4o MINI ---\")\n",
    "        # print(prompt_2)\n",
    "        # print()\n",
    "        gpt_score = score(prompt= prompt_2)\n",
    "        sample['score']['gpt4omini'] = gpt_score\n",
    "        print({\"num\" : idx, \"model\" : \"gpt_4o_mini\", \"score\" : gpt_score})\n",
    "\n",
    "\n",
    "        ## Gemma\n",
    "        gemma_g = format_gen(sample['inner_thought']['history_gemma'])\n",
    "        prompt_3 = PROMT_CHECK_INNER_THOUGHT_CONTENTS.format(history = history,\n",
    "                                                            gt = gt,\n",
    "                                                            gen = gemma_g)\n",
    "        \n",
    "        print(\"--- GEMMA ---\")\n",
    "        # print(prompt_3)\n",
    "        # print()\n",
    "\n",
    "        gemma_score = score(prompt= prompt_3)\n",
    "        sample['score']['gemma'] = gemma_score\n",
    "        print({\"num\" : idx, \"model\" : \"gemma\", \"score\" : gemma_score})\n",
    "    "
   ]
  },
  {
   "cell_type": "code",
   "execution_count": null,
   "metadata": {},
   "outputs": [],
   "source": []
  },
  {
   "cell_type": "code",
   "execution_count": 91,
   "metadata": {},
   "outputs": [],
   "source": [
    "with open(\"task4_score_v3.json\", \"w\", encoding=\"utf-8\") as f:\n",
    "    json.dump(dataset_task4, f, ensure_ascii=False, indent=4)"
   ]
  },
  {
   "cell_type": "code",
   "execution_count": null,
   "metadata": {},
   "outputs": [],
   "source": []
  },
  {
   "cell_type": "code",
   "execution_count": 92,
   "metadata": {},
   "outputs": [
    {
     "name": "stderr",
     "output_type": "stream",
     "text": [
      "  5%|▌         | 1/20 [00:05<01:46,  5.58s/it]"
     ]
    },
    {
     "name": "stdout",
     "output_type": "stream",
     "text": [
      "{'gpt4o': 6.0, 'o4mini': 6.5, 'geminipro': 6.5, 'avg': 6.333333333333333}\n"
     ]
    },
    {
     "name": "stderr",
     "output_type": "stream",
     "text": [
      " 10%|█         | 2/20 [00:10<01:31,  5.09s/it]"
     ]
    },
    {
     "name": "stdout",
     "output_type": "stream",
     "text": [
      "{'gpt4o': 8.0, 'o4mini': 8.2, 'geminipro': 8.2, 'avg': 8.133333333333333}\n"
     ]
    },
    {
     "name": "stderr",
     "output_type": "stream",
     "text": [
      " 15%|█▌        | 3/20 [00:15<01:28,  5.22s/it]"
     ]
    },
    {
     "name": "stdout",
     "output_type": "stream",
     "text": [
      "{'gpt4o': 6.0, 'o4mini': 7.5, 'geminipro': 7.8, 'avg': 7.1000000000000005}\n"
     ]
    },
    {
     "name": "stderr",
     "output_type": "stream",
     "text": [
      " 20%|██        | 4/20 [00:20<01:21,  5.07s/it]"
     ]
    },
    {
     "name": "stdout",
     "output_type": "stream",
     "text": [
      "{'gpt4o': 2.0, 'o4mini': 2.0, 'geminipro': 1.2, 'avg': 1.7333333333333334}\n"
     ]
    },
    {
     "name": "stderr",
     "output_type": "stream",
     "text": [
      " 25%|██▌       | 5/20 [00:24<01:10,  4.68s/it]"
     ]
    },
    {
     "name": "stdout",
     "output_type": "stream",
     "text": [
      "{'gpt4o': 9.8, 'o4mini': 8.5, 'geminipro': 8.5, 'avg': 8.933333333333334}\n"
     ]
    },
    {
     "name": "stderr",
     "output_type": "stream",
     "text": [
      " 30%|███       | 6/20 [00:29<01:06,  4.77s/it]"
     ]
    },
    {
     "name": "stdout",
     "output_type": "stream",
     "text": [
      "{'gpt4o': 4.0, 'o4mini': 4.5, 'geminipro': 4.5, 'avg': 4.333333333333333}\n"
     ]
    },
    {
     "name": "stderr",
     "output_type": "stream",
     "text": [
      " 35%|███▌      | 7/20 [00:35<01:08,  5.27s/it]"
     ]
    },
    {
     "name": "stdout",
     "output_type": "stream",
     "text": [
      "{'gpt4o': 2.0, 'o4mini': 1.2, 'geminipro': 1.2, 'avg': 1.4666666666666668}\n"
     ]
    },
    {
     "name": "stderr",
     "output_type": "stream",
     "text": [
      " 40%|████      | 8/20 [00:41<01:04,  5.36s/it]"
     ]
    },
    {
     "name": "stdout",
     "output_type": "stream",
     "text": [
      "{'gpt4o': 2.0, 'o4mini': 1.2, 'geminipro': 1.5, 'avg': 1.5666666666666667}\n"
     ]
    },
    {
     "name": "stderr",
     "output_type": "stream",
     "text": [
      " 45%|████▌     | 9/20 [00:45<00:56,  5.15s/it]"
     ]
    },
    {
     "name": "stdout",
     "output_type": "stream",
     "text": [
      "{'gpt4o': 2.0, 'o4mini': 1.2, 'geminipro': 1.2, 'avg': 1.4666666666666668}\n"
     ]
    },
    {
     "name": "stderr",
     "output_type": "stream",
     "text": [
      " 50%|█████     | 10/20 [00:50<00:49,  4.91s/it]"
     ]
    },
    {
     "name": "stdout",
     "output_type": "stream",
     "text": [
      "{'gpt4o': 3.0, 'o4mini': 4.5, 'geminipro': 4.5, 'avg': 4.0}\n"
     ]
    },
    {
     "name": "stderr",
     "output_type": "stream",
     "text": [
      " 55%|█████▌    | 11/20 [00:54<00:41,  4.64s/it]"
     ]
    },
    {
     "name": "stdout",
     "output_type": "stream",
     "text": [
      "{'gpt4o': 3.0, 'o4mini': 2.0, 'geminipro': 3.5, 'avg': 2.8333333333333335}\n"
     ]
    },
    {
     "name": "stderr",
     "output_type": "stream",
     "text": [
      " 60%|██████    | 12/20 [00:59<00:39,  4.88s/it]"
     ]
    },
    {
     "name": "stdout",
     "output_type": "stream",
     "text": [
      "{'gpt4o': 2.0, 'o4mini': 3.5, 'geminipro': 3.5, 'avg': 3.0}\n"
     ]
    },
    {
     "name": "stderr",
     "output_type": "stream",
     "text": [
      " 65%|██████▌   | 13/20 [01:03<00:32,  4.62s/it]"
     ]
    },
    {
     "name": "stdout",
     "output_type": "stream",
     "text": [
      "{'gpt4o': 1.5, 'o4mini': 3.5, 'geminipro': 3.5, 'avg': 2.8333333333333335}\n"
     ]
    },
    {
     "name": "stderr",
     "output_type": "stream",
     "text": [
      " 70%|███████   | 14/20 [01:08<00:27,  4.56s/it]"
     ]
    },
    {
     "name": "stdout",
     "output_type": "stream",
     "text": [
      "{'gpt4o': 3.5, 'o4mini': 3.5, 'geminipro': 3.5, 'avg': 3.5}\n"
     ]
    },
    {
     "name": "stderr",
     "output_type": "stream",
     "text": [
      " 75%|███████▌  | 15/20 [01:12<00:21,  4.37s/it]"
     ]
    },
    {
     "name": "stdout",
     "output_type": "stream",
     "text": [
      "{'gpt4o': 3.0, 'o4mini': 3.5, 'geminipro': 2.0, 'avg': 2.8333333333333335}\n"
     ]
    },
    {
     "name": "stderr",
     "output_type": "stream",
     "text": [
      " 80%|████████  | 16/20 [01:16<00:17,  4.41s/it]"
     ]
    },
    {
     "name": "stdout",
     "output_type": "stream",
     "text": [
      "{'gpt4o': 2.0, 'o4mini': 2.0, 'geminipro': 3.5, 'avg': 2.5}\n"
     ]
    },
    {
     "name": "stderr",
     "output_type": "stream",
     "text": [
      " 85%|████████▌ | 17/20 [01:21<00:13,  4.61s/it]"
     ]
    },
    {
     "name": "stdout",
     "output_type": "stream",
     "text": [
      "{'gpt4o': 3.0, 'o4mini': 4.5, 'geminipro': 4.5, 'avg': 4.0}\n"
     ]
    },
    {
     "name": "stderr",
     "output_type": "stream",
     "text": [
      " 90%|█████████ | 18/20 [01:26<00:09,  4.69s/it]"
     ]
    },
    {
     "name": "stdout",
     "output_type": "stream",
     "text": [
      "{'gpt4o': 2.0, 'o4mini': 1.0, 'geminipro': 1.0, 'avg': 1.3333333333333333}\n"
     ]
    },
    {
     "name": "stderr",
     "output_type": "stream",
     "text": [
      " 95%|█████████▌| 19/20 [01:30<00:04,  4.54s/it]"
     ]
    },
    {
     "name": "stdout",
     "output_type": "stream",
     "text": [
      "{'gpt4o': 3.0, 'o4mini': 2.0, 'geminipro': 2.0, 'avg': 2.3333333333333335}\n"
     ]
    },
    {
     "name": "stderr",
     "output_type": "stream",
     "text": [
      "100%|██████████| 20/20 [01:35<00:00,  4.76s/it]"
     ]
    },
    {
     "name": "stdout",
     "output_type": "stream",
     "text": [
      "{'gpt4o': 3.0, 'o4mini': 1.2, 'geminipro': 2.0, 'avg': 2.066666666666667}\n"
     ]
    },
    {
     "name": "stderr",
     "output_type": "stream",
     "text": [
      "\n"
     ]
    }
   ],
   "source": [
    "# Score for system 1\n",
    "idx = 0\n",
    "for sample in tqdm(dataset_task4['data']):\n",
    "    gt, history = formate_GT(sample['history'])\n",
    "\n",
    "    gen = format_gen_system1(sample['speaker_prediction']['history'])\n",
    "    prompt = PROMT_CHECK_INNER_THOUGHT_CONTENTS_system1.format(history = history,\n",
    "                                                        gt = gt,\n",
    "                                                        gen = gen)\n",
    "    \n",
    "    s = score(prompt= prompt)\n",
    "    print(s)\n",
    "\n",
    "    sample['score']['system1'] = s\n"
   ]
  },
  {
   "cell_type": "code",
   "execution_count": 93,
   "metadata": {},
   "outputs": [],
   "source": [
    "with open(\"task4_full_score_v2.json\", \"w\", encoding=\"utf-8\") as f:\n",
    "    json.dump(dataset_task4, f, ensure_ascii=False, indent=4)"
   ]
  },
  {
   "cell_type": "code",
   "execution_count": null,
   "metadata": {},
   "outputs": [],
   "source": []
  },
  {
   "cell_type": "code",
   "execution_count": 95,
   "metadata": {},
   "outputs": [
    {
     "data": {
      "text/plain": [
       "{'name': 'Task 4',\n",
       " 'score': {'gemini2flash': 5.193333333333333,\n",
       "  'gpt4omini': 4.006666666666667,\n",
       "  'gemma': 4.726666666666667,\n",
       "  'system1': 3.6150000000000007}}"
      ]
     },
     "execution_count": 95,
     "metadata": {},
     "output_type": "execute_result"
    }
   ],
   "source": [
    "task4_score = []\n",
    "for sample in dataset_task4['data']:\n",
    "    task4_score.append((sample['note'], sample['score']))\n",
    "\n",
    "task_4 = {\n",
    "    \"name\" : \"Task 4\",\n",
    "    \"score\" : score_radar(task4_score)\n",
    "}\n",
    "task_4"
   ]
  },
  {
   "cell_type": "code",
   "execution_count": null,
   "metadata": {},
   "outputs": [],
   "source": []
  },
  {
   "cell_type": "code",
   "execution_count": 117,
   "metadata": {},
   "outputs": [],
   "source": [
    "task1 = {'name': 'Task 1',\n",
    " 'score': {'gemini2flash': 7.7,\n",
    "  'gpt4omini': 5.757,\n",
    "  'gemma': 6.54,\n",
    "  'baseline': 7.02}}"
   ]
  },
  {
   "cell_type": "code",
   "execution_count": 118,
   "metadata": {},
   "outputs": [],
   "source": [
    "task2 = {'name': 'Task 2',\n",
    " 'score': {'gemini2flash': 6.5,\n",
    "  'gpt4omini': 4.8,\n",
    "  'gemma': 5.3,\n",
    "  'baseline': 4.9}}"
   ]
  },
  {
   "cell_type": "code",
   "execution_count": 170,
   "metadata": {},
   "outputs": [],
   "source": [
    "task3 = {'name': 'Task 3',\n",
    " 'score': {'gemini2flash': 6.4,\n",
    "  'gpt4omini': 5.35,\n",
    "  'gemma': 5.7,\n",
    "  'baseline': 6.0}}"
   ]
  },
  {
   "cell_type": "code",
   "execution_count": 120,
   "metadata": {},
   "outputs": [],
   "source": [
    "task4 = {'name': 'Task 4',\n",
    " 'score': {'gemini2flash': 5.193333333333333,\n",
    "  'gpt4omini': 4.006666666666667,\n",
    "  'gemma': 4.726666666666667,\n",
    "  'system1': 3.6150000000000007}}"
   ]
  },
  {
   "cell_type": "code",
   "execution_count": null,
   "metadata": {},
   "outputs": [],
   "source": []
  },
  {
   "cell_type": "code",
   "execution_count": null,
   "metadata": {},
   "outputs": [],
   "source": []
  },
  {
   "cell_type": "code",
   "execution_count": 171,
   "metadata": {},
   "outputs": [
    {
     "data": {
      "image/png": "[encoded data removed]",
      "text/plain": [
       "<Figure size 800x600 with 1 Axes>"
      ]
     },
     "metadata": {},
     "output_type": "display_data"
    }
   ],
   "source": [
    "import matplotlib.pyplot as plt\n",
    "import numpy as np\n",
    "\n",
    "tasks = ['Task 1','Task 2', 'Task 3', 'Task 4']\n",
    "models = ['gemini2flash', 'gpt4omini', 'gemma', 'baseline']\n",
    "\n",
    "scores_by_model = {model: [] for model in models}\n",
    "data = [task1, task2, task3, task4]\n",
    "\n",
    "for task in data:\n",
    "    for model in models:\n",
    "        scores_by_model[model].append(task['score'][model])\n",
    "\n",
    "# Radar plot\n",
    "num_vars = len(tasks)\n",
    "angles = np.linspace(0, 2 * np.pi, num_vars, endpoint=False).tolist()\n",
    "angles += angles[:1]  \n",
    "\n",
    "fig, ax = plt.subplots(figsize=(8, 6), subplot_kw=dict(polar=True))\n",
    "\n",
    "for model in models:\n",
    "    values = scores_by_model[model]\n",
    "    values += values[:1]  \n",
    "\n",
    "    if model == 'baseline':\n",
    "        ax.plot(angles, values, label=model, linewidth=2, linestyle='--', color='red')\n",
    "        ax.fill(angles, values, alpha=0.1, color='red')\n",
    "    else:\n",
    "        ax.plot(angles, values, label=model, linewidth=2)\n",
    "        ax.fill(angles, values, alpha=0.1)\n",
    "\n",
    "ax.set_theta_offset(np.pi / 2)\n",
    "ax.set_theta_direction(-1)\n",
    "ax.set_thetagrids(np.degrees(angles[:-1]), tasks)\n",
    "\n",
    "\n",
    "plt.title(\"Radar Score\", size=14)\n",
    "ax.legend(loc='upper right', bbox_to_anchor=(1.2, 1.1))\n",
    "\n",
    "plt.tight_layout()\n",
    "plt.show()\n"
   ]
  },
  {
   "cell_type": "code",
   "execution_count": null,
   "metadata": {},
   "outputs": [],
   "source": []
  },
  {
   "cell_type": "code",
   "execution_count": null,
   "metadata": {},
   "outputs": [],
   "source": []
  },
  {
   "cell_type": "code",
   "execution_count": 162,
   "metadata": {},
   "outputs": [
    {
     "name": "stderr",
     "output_type": "stream",
     "text": [
      "C:\\Users\\ADMIN\\AppData\\Local\\Temp\\ipykernel_17364\\1909599976.py:57: UserWarning: This figure includes Axes that are not compatible with tight_layout, so results might be incorrect.\n",
      "  plt.tight_layout()\n"
     ]
    },
    {
     "data": {
      "image/png": "[encoded data removed]",
      "text/plain": [
       "<Figure size 1300x600 with 5 Axes>"
      ]
     },
     "metadata": {},
     "output_type": "display_data"
    }
   ],
   "source": [
    "import matplotlib.pyplot as plt\n",
    "from matplotlib.patches import Patch\n",
    "\n",
    "# Dữ liệu\n",
    "tasks = ['TASK 1', 'TASK 2',\n",
    "         'TASK 3', 'TASK 4']\n",
    "categories = ['Win', 'Draw', 'Lose']\n",
    "colors = ['green', 'gold', 'red']\n",
    "task_data = [\n",
    "    [43.5, 26.1, 30.4],\n",
    "    [60.0, 10.0, 30.0],\n",
    "    [76.2, 4.8, 19.0],\n",
    "    [50.0, 0.0, 50.0]\n",
    "]\n",
    "overall_data = [62.3, 4.9, 32.8]\n",
    "\n",
    "\n",
    "fig = plt.figure(figsize=(13, 6))\n",
    "gs = fig.add_gridspec(4, 7, width_ratios=[1.8, 0.2, 3, 3, 3, 0.1, 0.3], wspace=0.3, hspace=0.8)\n",
    "\n",
    "\n",
    "ax_overall = fig.add_subplot(gs[:, 0])\n",
    "bottom = 0\n",
    "for i, value in enumerate(overall_data):\n",
    "    ax_overall.bar(0, value, bottom=bottom, color=colors[i], width=1.5)\n",
    "    ax_overall.text(0, bottom + value / 2, f'{value:.1f}%', ha='center', va='center',\n",
    "                    fontsize=9, color='white' if colors[i] != 'gold' else 'black')\n",
    "    bottom += value\n",
    "ax_overall.set_ylim(0, 100)\n",
    "ax_overall.set_xlim(-1.5, 1.5)\n",
    "ax_overall.set_xticks([])\n",
    "ax_overall.set_yticks([])\n",
    "ax_overall.set_title('OVERALL', fontsize=12)\n",
    "for spine in ax_overall.spines.values():\n",
    "    spine.set_visible(False)\n",
    "\n",
    "\n",
    "for i in range(4):\n",
    "    ax = fig.add_subplot(gs[i, 2:5])\n",
    "    data = task_data[i]\n",
    "    left = 0\n",
    "    for j, value in enumerate(data):\n",
    "        ax.barh(0, value, left=left, color=colors[j])\n",
    "        if value > 0:\n",
    "            ax.text(left + value / 2, 0, f'{value:.1f}%', va='center', ha='center',\n",
    "                    fontsize=9, color='white' if colors[j] != 'gold' else 'black')\n",
    "        left += value\n",
    "    ax.set_xlim(0, 100)\n",
    "    ax.set_title(tasks[i], loc='left', fontsize=10)\n",
    "    ax.axis('off')\n",
    "\n",
    "\n",
    "legend_elements = [Patch(facecolor=colors[i], label=categories[i]) for i in range(3)]\n",
    "fig.legend(handles=legend_elements, loc='center left', bbox_to_anchor=(0.88, 0.5))\n",
    "\n",
    "fig.suptitle(\"Method 1 - Compare with baseline\", fontsize=14, fontweight='bold', y=1.02)\n",
    "plt.tight_layout()\n",
    "plt.show()\n"
   ]
  },
  {
   "cell_type": "code",
   "execution_count": null,
   "metadata": {},
   "outputs": [],
   "source": []
  }
 ],
 "metadata": {
  "kernelspec": {
   "display_name": "Python 3",
   "language": "python",
   "name": "python3"
  },
  "language_info": {
   "codemirror_mode": {
    "name": "ipython",
    "version": 3
   },
   "file_extension": ".py",
   "mimetype": "text/x-python",
   "name": "python",
   "nbconvert_exporter": "python",
   "pygments_lexer": "ipython3",
   "version": "3.11.9"
  }
 },
 "nbformat": 4,
 "nbformat_minor": 2
}
