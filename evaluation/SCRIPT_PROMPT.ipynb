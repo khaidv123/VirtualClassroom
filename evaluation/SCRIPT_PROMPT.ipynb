{
 "cells": [
  {
   "cell_type": "code",
   "execution_count": null,
   "metadata": {},
   "outputs": [],
   "source": []
  },
  {
   "cell_type": "markdown",
   "metadata": {},
   "source": [
    "# TEMPLATE PROMPT"
   ]
  },
  {
   "cell_type": "code",
   "execution_count": null,
   "metadata": {},
   "outputs": [],
   "source": [
    "PROMPT= \"\"\"\n",
    "Nhiệm vụ của bạn là tạo ra cuộc hội thoại (bằng Tiếng Việt) gồm 10 turn về một nhóm bạn đang cùng nhau thảo luận để giải một bài toán.\n",
    "Bạn sẽ nhận được thông tin những ai tham gia, bài toán và lời giải và đặc biệt bạn sẽ có KỊCH BẢN để dựa trên đó tạo ra hội thoại cho phù hợp.\n",
    "\n",
    "## Đầu ra trả về dạng JSON như sau mà không nói gì thêm:\n",
    "```json\n",
    "[\n",
    "    {{\"turn\" : \"1\", \"name\" : \"\", \"message\" : \"\"}},\n",
    "    {{\"turn\" : \"2\", \"name\" : \"\", \"message\" : \"\"}},\n",
    "    ...\n",
    "    {{\"turn\" : \"10\", \"name\" : \"\", \"message\" : \"\"}}\n",
    "]\n",
    "```\n",
    "\n",
    "\n",
    "## Đây là thông tin bạn nhận được\n",
    "### Những người tham gia\n",
    "---\n",
    "Gồm 4 bạn tham gia: \n",
    "- Bob\n",
    "- Alice\n",
    "- Charlie\n",
    "- Tom\n",
    "---\n",
    "### Bài toán và lời giải\n",
    "---\n",
    "{problem}\n",
    "---\n",
    "### KỊCH BẢN (thông tin quan trọng)\n",
    "---\n",
    "{script}\n",
    "---\n",
    "\n",
    "Lưu ý quan trọng:\n",
    "1. Hãy chọn ra MỘT phần liên quan đến bài toán (ví dụ một vài bước làm, kiến thức lý thuyết liên quan) để thảo luận dựa trên kịch bản.\n",
    "2. Trong 10 turn đó, bạn chỉ cần tạo ra một số cảnh nhỏ (ví dụ một bước làm nào đó của bài toán) để xây dựng hội thoại, chứ không cần thiết phải lấy cả bài. Mục đích ở đây của hội thoại không phải là giải cả một bài toán, mà để mô phỏng cách nói chuyện của các bạn học dựa trên KỊCH BẢN.\n",
    "3. Trong KỊCH BẢN, có một số turn (được đánh số) sẽ chứa những yêu cầu đặc biệt mà bạn cần tuân theo. Các turn còn lại tuy không được nêu rõ yêu cầu NHƯNG đó là bối cảnh dẫn đến các turn đặc biệt. Vì vậy, bạn cần tạo ra hội thoại hợp lý giữ các turn.\n",
    "4. Lời nói giao tiếp giữa các bạn phải giống thực tế giao tiếp.\n",
    "5. KHÔNG được đánh dấu làm nổi bật các thông tin đặc biệt (ví dụ như lỗi sai, lời nói quan trọng).\n",
    "\"\"\""
   ]
  },
  {
   "cell_type": "code",
   "execution_count": null,
   "metadata": {},
   "outputs": [],
   "source": []
  },
  {
   "cell_type": "markdown",
   "metadata": {},
   "source": [
    "# SCRIPTS"
   ]
  },
  {
   "cell_type": "code",
   "execution_count": null,
   "metadata": {},
   "outputs": [],
   "source": [
    "# TASK 1\n",
    "\"\"\"\n",
    "-\tDễ: Lỗi sai ở ngay turn trước và dễ phát hiện ra\n",
    "o\tKịch bản 1: “Những turn đầu từ 1-8 các bạn thảo luận như thường không có vấn đề gì. Nhưng ở turn 9 Charlie có mắc một lỗi sai *dễ dàng* nhận ra (như nhầm dấu, nhớ nhầm công thức, xác định tên kiến thức nhầm,…). Turn 10 bạn Alice sẽ phát biểu nhận ra và chỉ ra lỗi sai.”\n",
    "o\tKịch bản 2: “Những turn đầu từ 1-8 các bạn thảo luận như thường không có vấn đề gì. Nhưng ở turn 9 Charlie có mắc một lỗi sai *khó nhận*, ví dụ có thể biến đổi sai hay do Charlie làm quá tắt nên chỉ đưa ra kết quả sai mà không nên rõ các bước. Turn 10 bạn Alice sẽ phát biểu nhận ra và chỉ ra lỗi sai.”\n",
    "\n",
    "-\tTrung bình: Lỗi sai ở ngay turn trước nhưng những turn trước bị thống trị bởi hai người\n",
    "o\tKịch bản 1: “Những turn đầu từ 1-8 các bạn thảo luận như thường không có vấn đề gì. Tuy nhiên trong 8 turn đầu đấy chủ yếu chỉ có Tom và Charlie đang thảo luận với nhau. Nhưng ở turn 9 Charlie có mắc một lỗi sai *dễ dàng* nhận ra. Turn 10 bạn Alice sẽ phát biểu nhận ra và chỉ ra lỗi sai.”\n",
    "o\tKịch bản 2: “Những turn đầu từ 1-8 các bạn thảo luận như thường không có vấn đề gì. Tuy nhiên trong 8 turn đầu đấy chủ yếu chỉ có Tom và Charlie đang thảo luận với nhau. Nhưng ở turn 9 Charlie có mắc một lỗi sai *khó nhận*, ví dụ có thể biến đổi sai hay do Charlie làm quá tắt nên chỉ đưa ra kết quả sai mà không nên rõ các bước. Turn 10 bạn Alice sẽ phát biểu nhận ra và chỉ ra lỗi sai.”\n",
    "\n",
    "-\tKhó: Lỗi sai mắc ở turn thứ 8, turn 9 có người đồng ý. Ngoài ra độ khó sẽ tăng lên khi các turn trước bị thống trị bởi 2 bạn.\n",
    "o\tKịch bản 1: “Những turn đầu từ 1-7 các bạn thảo luận như thường không có vấn đề gì. Tuy nhiên ở turn 8, Charlie có mắc một lỗi sai, nhưng ngay sau đó là turn 9 là lời nói của Tom, Tom thể hiện sự đồng ý với Charlie mà không phát hiện ra lỗi sau. Nhưng ở turn 10, Alice phát biểu và chỉ ra lỗi sai.”\n",
    "o\tKịch bản 2: “Những turn đầu từ 1-7 các bạn thảo luận như thường không có vấn đề gì NHƯNG trong 7 turn đầu đó chủ yếu chỉ có Tom và Charlie thảo luận với nhau. Tuy nhiên ở turn 8, Charlie có mắc một lỗi sai, nhưng ngay sau đó là turn 9 là lời nói của Tom, Tom thể hiện sự đồng ý với Charlie mà không phát hiện ra lỗi sau. Nhưng ở turn 10, Alice phát biểu và chỉ ra lỗi sai.”\n",
    "o\tKịch bản 3: “Những turn đầu từ 1-9 các bạn thảo luận như thường không có vấn đề gì. Tuy nhiên trong 8 turn đầu đấy chủ yếu chỉ có Tom và Charlie đang thảo luận với nhau. Tuy nhiên trong turn 6, Charlie có phạm lỗi sai nào đó, nhưng các turn sau Tom lại không phát hiện ra. Nhưng đến turn 10, Alice sẽ phát biểu và chỉ ra lỗi sai cho hai bạn.”\n",
    "\"\"\""
   ]
  },
  {
   "cell_type": "code",
   "execution_count": null,
   "metadata": {},
   "outputs": [],
   "source": [
    "# TASK 2\n",
    "\"\"\"\n",
    "(1)\tSelf-correction\n",
    "    a.\tKịch bản 1: “Các bạn đang thảo luận về **LÝ THUYẾT LIÊN QUAN** của bài toán. Trong turn từ 1-7 cuộc thảo luận diễn ra bình thường. Nhưng ở turn 8, Charlie có phạm lỗi sai là nhầm công thức. Ngay sau, ở turn 9, Tom đã đưa ra nhắc nhở cho Charlie. Và ở turn 10, Charlie nhận ra lỗi sai của mình.”\n",
    "    b.\tKịch bản 2: “Các bạn đang thảo luận về **LÝ THUYẾT LIÊN QUAN** của bài toán. Trong turn từ 1-6 cuộc thảo luận diễn ra bình thường. Tuy nhiên, turn 7, Charlie mắc một lỗi sai. Nhưng turn 8 là của Bob, nhưng Bob không nhận ra lỗi sai của Charlie, ngược lại còn rất đồng tình với kết quả đó. Ngay sau, ở turn 9, Tom đã đưa ra nhắc nhở cho Charlie. Và ở turn 10, Charlie nhận ra lỗi sai của mình.”\n",
    "\n",
    "(2)\tSelf-affirmation\n",
    "    a.\tKịch bản 1: “Các bạn đang thảo luận về **LÝ THUYẾT LIÊN QUAN** của bài toán. Trong turn từ 1-7 cuộc thảo luận diễn ra bình thường. Ở turn 8, Charlie có nhắc đến một vấn đề nào đó và Charlie đúng. Tuy nhiên, ở turn 9, Tom khẳng định là Charlie sai và đưa giải thích. Ngay sau, turn 10, Charlie phản biện và giải thích cho Tom hiểu là Tom sai.”\n",
    "    b.\tKịch bản 2: “Các bạn đang thảo luận về **LÝ THUYẾT LIÊN QUAN** của bài toán. Trong turn từ 1-6 cuộc thảo luận diễn ra bình thường. Ở turn 7, Charlie có nhắc đến một vấn đề nào đó và Charlie đúng. Tuy nhiên, ở turn 8-9, Tom và Bob khẳng định là Charlie sai và đưa giải thích. Ngay sau, turn 10, Charlie phản biện và giải thích cho Tom và Bob hiểu là họ sai.”\n",
    "\"\"\""
   ]
  },
  {
   "cell_type": "code",
   "execution_count": null,
   "metadata": {},
   "outputs": [],
   "source": [
    "# TASK 3\n",
    "\"\"\"\n",
    "(1)\tHọc sinh (user) thể hiện sự buồn rầu, chán nản --> EC\n",
    "    Kich bản: “Các bạn đang thảo luận về **LÝ THUYẾT LIÊN QUAN** của bài toán. Trong turn từ 1-8 cuộc thảo luận diễn ra bình thường. Nhưng đến turn 9, Tom biểu lộ cảm xúc chán nản vì không hiểu môn Toán. Ngay sau đó, turn 10, Charlie đưa ra lời động viên kích lệ tin thần Tom.”\n",
    "\n",
    "(2)\tHọc sinh thật xao nhãng --> CM\n",
    "    a.\tKịch bản: “Các bạn đang thảo luận về **LÝ THUYẾT LIÊN QUAN** của bài toán. Trong turn từ 1-8 cuộc thảo luận diễn ra bình thường. Nhưng đến turn 9, Tom tỏ ra xao nhãng lớp học bằng cách nói một vấn đề không liên quan. Ngay sau đó, turn 10, Charlie đã kéo nhắc nhở Tom quay trở lại làm bài.”\n",
    "    b.\tKịch bản: “Các bạn đang thảo luận về **LÝ THUYẾT LIÊN QUAN** của bài toán. Trong turn từ 1-6 cuộc thảo luận diễn ra bình thường. Nhưng đến turn 7, Tom tỏ ra xao nhãng lớp học bằng cách nói một vấn đề không liên quan.Nhưng turn 8-9 của Bob và Alice cũng hùa theo Tom. Ngay sau đó, turn 10, Charlie đã kéo nhắc nhở cả nhóm quay trở lại làm bài.”\n",
    "\n",
    "(3)\tTrước đó học sinh thật gặp khó khăn và được giúp đỡ  khen ngợi  exhortation\n",
    "    a.\tKịch bản: “Các bạn đang thảo luận về **LÝ THUYẾT LIÊN QUAN** của bài toán. Tuy nhiên trong những turn đầu Tom có vẻ khó khăn trong giải toán và được các bạn giúp đỡ. Đến turn 9, Tom đã nắm được kiến thức. Turn 10, Alice sẽ nói để khích lệ, khen Tom.”\n",
    "\n",
    "(4)\tHọc sinh thật hỏi, cung cấp câu trả lời --> Indepth Discussion\n",
    "    a.\tKịch bản: “Các bạn đang thảo luận về **LÝ THUYẾT LIÊN QUAN** của bài toán. Ở turn 9, Tom có thắc mắc phần lý thuyết bằng một câu hỏi. Turn 10, có một bạn sẽ giải đáp câu hỏi đó bằng thông tin hữu ích, tuy nhiên sẽ ngắn gọn dễ hiểu.”\n",
    "    b.\tKịch bản: “Các bạn đang thảo luận về **LÝ THUYẾT LIÊN QUAN** của bài toán. Các turn chủ yếu là cuộc nói chuyện giữa Alice và Charlie. Nhưng đến turn 9, tự dưng Tom xem vào để hỏi một câu hỏi. Turn 10, Charlie sẽ trả lời câu hỏi đó của Tom.”\n",
    "\"\"\""
   ]
  },
  {
   "cell_type": "code",
   "execution_count": null,
   "metadata": {},
   "outputs": [],
   "source": [
    "# TASK 4\n",
    "\"\"\"\n",
    "a.\tKịch bản – nhớ lại role để thực hiện: “Các bạn đang thảo luận về của bài toán để giải một bài toán. Những turn đầu cả nhóm sẽ chia việc cụ thể cho nhau mỗi người sẽ chịu trắc nghiệm làm một phần việc, như tìm hiểu lý thuyết bài toán, nhận tính toán bước nào đó của bài toán. Các turn sau đó đến nhiệm vụ của ai thì người đó nó. Tuy nhiên đến turn 9, Tom sẽ hỏi ai đang nhận nhiệm vụ xxx, đây là nhiệm vụ của Alice, nhưng Tom không nhớ Alice đảm nhận nó. Turn 10, Alice sẽ phát biểu và thực hiện nhiệm vụ được giao cho mình.”\n",
    "b.\tKịch bản – có người khác tranh role của mình: “Các bạn đang thảo luận về của bài toán để giải một bài toán. Những turn đầu cả nhóm sẽ chia việc cụ thể cho nhau mỗi người sẽ chịu trắc nghiệm làm một phần việc, như tìm hiểu lý thuyết bài toán, nhận tính toán bước nào đó của bài toán. Các turn sau đó đến nhiệm vụ của ai thì người đó thực hiện. Đến turn 8, Tom sẽ gọi Charlie thực hiện nhiệm vụ của mình. Turn 9, Charlie nói sẽ thực hiện nhiệm vụ xxx được giao, tuy nhiên Charlie không để ý nhiệm vụ xxx là của Alice. Ngay sau đó, turn 10, Alice sẽ nhắc Charlie, xxx là nhiệm vụ của mình và Alice sẽ thực hiện nó.”\n",
    "\"\"\""
   ]
  },
  {
   "cell_type": "code",
   "execution_count": null,
   "metadata": {},
   "outputs": [],
   "source": []
  }
 ],
 "metadata": {
  "language_info": {
   "name": "python"
  }
 },
 "nbformat": 4,
 "nbformat_minor": 2
}
